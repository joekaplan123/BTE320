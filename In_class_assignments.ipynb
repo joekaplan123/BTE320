{
  "nbformat": 4,
  "nbformat_minor": 0,
  "metadata": {
    "colab": {
      "provenance": [],
      "authorship_tag": "ABX9TyPWm8MIuYoRQ62XdwXY1XPQ",
      "include_colab_link": true
    },
    "kernelspec": {
      "name": "python3",
      "display_name": "Python 3"
    },
    "language_info": {
      "name": "python"
    }
  },
  "cells": [
    {
      "cell_type": "markdown",
      "metadata": {
        "id": "view-in-github",
        "colab_type": "text"
      },
      "source": [
        "<a href=\"https://colab.research.google.com/github/joekaplan123/BTE320/blob/main/In_class_assignments.ipynb\" target=\"_parent\"><img src=\"https://colab.research.google.com/assets/colab-badge.svg\" alt=\"Open In Colab\"/></a>"
      ]
    },
    {
      "cell_type": "code",
      "execution_count": null,
      "metadata": {
        "colab": {
          "base_uri": "https://localhost:8080/"
        },
        "id": "4iCbJLWuP827",
        "outputId": "e5a26f17-1947-478b-8480-c3b5b07b4384"
      },
      "outputs": [
        {
          "output_type": "stream",
          "name": "stdout",
          "text": [
            "enter radius: 5\n",
            "enter height: 7\n",
            "area of cylinder: 376.8 sp. ft\n"
          ]
        }
      ],
      "source": [
        "pi = 3.14\n",
        "radius = float(input('enter radius: '))\n",
        "height = float(input('enter height: '))\n",
        "\n",
        "area = (2 * pi * (radius ** 2)) + (2 * pi * radius * height)\n",
        "\n",
        "print(f'area of cylinder: {area} sp. ft')"
      ]
    },
    {
      "cell_type": "code",
      "source": [
        "n1 = float(input('enter number 1:'))\n",
        "n2 = float(input('enter number 2:'))\n",
        "op = input('Enter operator:')\n",
        "\n",
        "if op =='+':\n",
        "  res = n1 + n2\n",
        "elif op == '-':\n",
        "  res = n1 - n2\n",
        "elif op == '*':\n",
        "  res = n1 * n2\n",
        "elif op == '/':\n",
        "  res = n1 / n2\n",
        "elif op == '//':\n",
        "  res = n1 // n2\n",
        "elif op == '**':\n",
        "  res = n1 ** n2\n",
        "elif op == '%':\n",
        "  res = n1 % n2\n",
        "else:\n",
        "    print('Invalid operator')\n",
        "\n",
        "print(f'{n1} {op} {n2} = {res}')"
      ],
      "metadata": {
        "colab": {
          "base_uri": "https://localhost:8080/"
        },
        "id": "D54ub0_lbuhF",
        "outputId": "01c9ae94-2b4e-48ed-c1f8-e6e778cfe139"
      },
      "execution_count": 1,
      "outputs": [
        {
          "output_type": "stream",
          "name": "stdout",
          "text": [
            "enter number 1:6\n",
            "enter number 2:8\n",
            "Enter operator://\n",
            "6.0 // 8.0 = 0.0\n"
          ]
        }
      ]
    }
  ]
}