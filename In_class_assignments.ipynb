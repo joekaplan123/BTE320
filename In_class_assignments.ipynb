{
  "nbformat": 4,
  "nbformat_minor": 0,
  "metadata": {
    "colab": {
      "provenance": [],
      "authorship_tag": "ABX9TyN2Bvsj2SIIvFRK/lkbuaXf",
      "include_colab_link": true
    },
    "kernelspec": {
      "name": "python3",
      "display_name": "Python 3"
    },
    "language_info": {
      "name": "python"
    }
  },
  "cells": [
    {
      "cell_type": "markdown",
      "metadata": {
        "id": "view-in-github",
        "colab_type": "text"
      },
      "source": [
        "<a href=\"https://colab.research.google.com/github/joekaplan123/BTE320/blob/main/In_class_assignments.ipynb\" target=\"_parent\"><img src=\"https://colab.research.google.com/assets/colab-badge.svg\" alt=\"Open In Colab\"/></a>"
      ]
    },
    {
      "cell_type": "code",
      "execution_count": null,
      "metadata": {
        "colab": {
          "base_uri": "https://localhost:8080/"
        },
        "id": "4iCbJLWuP827",
        "outputId": "e5a26f17-1947-478b-8480-c3b5b07b4384"
      },
      "outputs": [
        {
          "output_type": "stream",
          "name": "stdout",
          "text": [
            "enter radius: 5\n",
            "enter height: 7\n",
            "area of cylinder: 376.8 sp. ft\n"
          ]
        }
      ],
      "source": [
        "pi = 3.14\n",
        "radius = float(input('enter radius: '))\n",
        "height = float(input('enter height: '))\n",
        "\n",
        "area = (2 * pi * (radius ** 2)) + (2 * pi * radius * height)\n",
        "\n",
        "print(f'area of cylinder: {area} sp. ft')"
      ]
    },
    {
      "cell_type": "code",
      "source": [
        "num = float(input('Please enter your number grade (0-100):'))\n",
        "\n",
        "if num >= 97:\n",
        "  print('A+')\n",
        "elif num >= 93:\n",
        "  print('A')\n",
        "elif num >= 90:\n",
        "  print('A-')\n",
        "elif num >= 87:\n",
        "  print('B+')\n",
        "elif num >= 83:\n",
        "  print('B')\n",
        "elif num >= 80:\n",
        "  print('B-')"
      ],
      "metadata": {
        "colab": {
          "base_uri": "https://localhost:8080/"
        },
        "id": "MybENqymTNMT",
        "outputId": "094157d2-0d7f-41ef-a122-7c919eaf7266"
      },
      "execution_count": 4,
      "outputs": [
        {
          "output_type": "stream",
          "name": "stdout",
          "text": [
            "Please enter your number grade (0-100):99\n",
            "A+\n"
          ]
        }
      ]
    },
    {
      "cell_type": "code",
      "source": [
        "customer_type = input('Please provide your customer type (N: new/E: existing):')\n",
        "deposit = float(input('Please provide your deposit amount ($)'))\n",
        "\n",
        "if customer_type == 'E' :\n",
        "  if deposit >= 10_000:\n",
        "    ir + 3.5 # % value\n",
        "  elif deposit > 1_000:\n",
        "    ir = 3.25 # % value\n",
        "  else:\n",
        "    ir = 3.0 # % value\n",
        "else:\n",
        "  ir = 4.0 # % value\n",
        "\n",
        "total = (1 + ir/100) * deposit\n",
        "print(f'Total deposit: {total}$')"
      ],
      "metadata": {
        "colab": {
          "base_uri": "https://localhost:8080/"
        },
        "id": "e173RPbdoykZ",
        "outputId": "350e7900-26ca-44da-86d5-dcbdee598933"
      },
      "execution_count": 6,
      "outputs": [
        {
          "output_type": "stream",
          "name": "stdout",
          "text": [
            "Please provide your customer type (N: new/E: existing):E\n",
            "Please provide your deposit amount ($)20000\n",
            "Total deposit: 20650.0$\n"
          ]
        }
      ]
    }
  ]
}