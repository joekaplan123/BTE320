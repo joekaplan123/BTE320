{
  "nbformat": 4,
  "nbformat_minor": 0,
  "metadata": {
    "colab": {
      "provenance": [],
      "authorship_tag": "ABX9TyOnE8sy4hM2Bxz/XMh0LqeT",
      "include_colab_link": true
    },
    "kernelspec": {
      "name": "python3",
      "display_name": "Python 3"
    },
    "language_info": {
      "name": "python"
    }
  },
  "cells": [
    {
      "cell_type": "markdown",
      "metadata": {
        "id": "view-in-github",
        "colab_type": "text"
      },
      "source": [
        "<a href=\"https://colab.research.google.com/github/joekaplan123/BTE320/blob/main/In_class_assignments.ipynb\" target=\"_parent\"><img src=\"https://colab.research.google.com/assets/colab-badge.svg\" alt=\"Open In Colab\"/></a>"
      ]
    },
    {
      "cell_type": "code",
      "execution_count": null,
      "metadata": {
        "colab": {
          "base_uri": "https://localhost:8080/"
        },
        "id": "4iCbJLWuP827",
        "outputId": "e5a26f17-1947-478b-8480-c3b5b07b4384"
      },
      "outputs": [
        {
          "output_type": "stream",
          "name": "stdout",
          "text": [
            "enter radius: 5\n",
            "enter height: 7\n",
            "area of cylinder: 376.8 sp. ft\n"
          ]
        }
      ],
      "source": [
        "pi = 3.14\n",
        "radius = float(input('enter radius: '))\n",
        "height = float(input('enter height: '))\n",
        "\n",
        "area = (2 * pi * (radius ** 2)) + (2 * pi * radius * height)\n",
        "\n",
        "print(f'area of cylinder: {area} sp. ft')"
      ]
    },
    {
      "cell_type": "code",
      "source": [
        "n1 = float(input('enter number 1:'))\n",
        "n2 = float(input('enter number 2:'))\n",
        "op = input('Enter operator:')\n",
        "\n",
        "if op =='+':\n",
        "  res = n1 + n2\n",
        "elif op == '-':\n",
        "  res = n1 - n2\n",
        "elif op == '*':\n",
        "  res = n1 * n2\n",
        "elif op == '/':\n",
        "  res = n1 / n2\n",
        "elif op == '//':\n",
        "  res = n1 // n2\n",
        "elif op == '**':\n",
        "  res = n1 ** n2\n",
        "elif op == '%':\n",
        "  res = n1 % n2\n",
        "else:\n",
        "    print('Invalid operator')\n",
        "\n",
        "print(f'{n1} {op} {n2} = {res}')"
      ],
      "metadata": {
        "colab": {
          "base_uri": "https://localhost:8080/"
        },
        "id": "D54ub0_lbuhF",
        "outputId": "01c9ae94-2b4e-48ed-c1f8-e6e778cfe139"
      },
      "execution_count": null,
      "outputs": [
        {
          "output_type": "stream",
          "name": "stdout",
          "text": [
            "enter number 1:6\n",
            "enter number 2:8\n",
            "Enter operator://\n",
            "6.0 // 8.0 = 0.0\n"
          ]
        }
      ]
    },
    {
      "cell_type": "code",
      "source": [
        "for numberHours in range(1, 9):\n",
        "  fee = 5 + 2.5 * numberHours\n",
        "  if fee < 10:\n",
        "    fee = 10.0\n",
        "  elif fee > 20:\n",
        "    fee = 20.0\n",
        "  print(numberHours, fee)"
      ],
      "metadata": {
        "colab": {
          "base_uri": "https://localhost:8080/"
        },
        "id": "La1nJM2Y5GiR",
        "outputId": "03d684a0-5480-4d92-c2c0-138f0ca2c469"
      },
      "execution_count": null,
      "outputs": [
        {
          "output_type": "stream",
          "name": "stdout",
          "text": [
            "1 10.0\n",
            "2 10.0\n",
            "3 12.5\n",
            "4 15.0\n",
            "5 17.5\n",
            "6 20.0\n",
            "7 20.0\n",
            "8 20.0\n"
          ]
        }
      ]
    },
    {
      "cell_type": "code",
      "source": [
        "print('Ad$\\t', 'Profit')\n",
        "for adMoney in range (0, 201, 25):\n",
        "  revenue = (20 + 2 * round(adMoney ** 0.5)) * 10\n",
        "  costs = 200 + adMoney\n",
        "  profit = revenue - costs\n",
        "  print(adMoney, '\\t', profit)"
      ],
      "metadata": {
        "colab": {
          "base_uri": "https://localhost:8080/"
        },
        "id": "hvDHb4Bj5sG7",
        "outputId": "2cef9dac-72e6-47ec-95fa-7a77dc13a7db"
      },
      "execution_count": null,
      "outputs": [
        {
          "output_type": "stream",
          "name": "stdout",
          "text": [
            "Ad$\t Profit\n",
            "0 \t 0\n",
            "25 \t 75\n",
            "50 \t 90\n",
            "75 \t 105\n",
            "100 \t 100\n",
            "125 \t 95\n",
            "150 \t 90\n",
            "175 \t 85\n",
            "200 \t 80\n"
          ]
        }
      ]
    },
    {
      "cell_type": "code",
      "source": [
        "import random\n",
        "x = \"yes\"\n",
        "while x == \"yes\":\n",
        "  player = input(\"rock, paper, or scissors: \")\n",
        "  while player != \"rock\" and player != \"paper\" and player != \"scissors\":\n",
        "    player = input(\"rock, paper, or scissors: \")\n",
        "  ai = random.choice([\"rock\", \"paper\", \"scissors\"])\n",
        "  print('AI choice: ', ai)\n",
        "  if ((player == \"rock\" and ai == \"scissors\") or (player == \"scissors\" and ai == \"paper\") or (player == \"paper\" and ai == \"rock\")):\n",
        "    print(\"You win!\")\n",
        "  elif ((player == \"rock\" and ai == \"paper\") or (player == \"scissors\" and ai == \"rock\") or (player == \"paper\" and ai == \"scissors\")):\n",
        "    print(\"You lose!\")\n",
        "  else:\n",
        "    print(\"It's a tie!\")\n",
        "  x = input(\"Do you want to play again? (yes/no) \")\n",
        "  while x != \"yes\" and x != \"no\":\n",
        "    x = input(\"Do you want to play again? \")"
      ],
      "metadata": {
        "colab": {
          "base_uri": "https://localhost:8080/"
        },
        "id": "zowHxLIS6grf",
        "outputId": "6c9bb4c7-434f-470c-eea3-b035a2ae0cb3"
      },
      "execution_count": null,
      "outputs": [
        {
          "name": "stdout",
          "output_type": "stream",
          "text": [
            "rock, paper, or scissors: rock\n",
            "AI choice:  scissors\n",
            "You win!\n",
            "Do you want to play again? (yes/no) yes\n",
            "rock, paper, or scissors: paper\n",
            "AI choice:  paper\n",
            "It's a tie!\n",
            "Do you want to play again? (yes/no) yes\n",
            "rock, paper, or scissors: paper\n",
            "AI choice:  rock\n",
            "You win!\n",
            "Do you want to play again? (yes/no) no\n"
          ]
        }
      ]
    },
    {
      "cell_type": "code",
      "source": [
        "lst = []\n",
        "\n",
        "while True:\n",
        "  num = float(input('Give a number: '))\n",
        "  if num == 0.0:\n",
        "    break\n",
        "  lst.append(num)\n",
        "lst.sort(reverse=True)\n",
        "lst"
      ],
      "metadata": {
        "id": "MfNLtGfO01MV",
        "outputId": "29387a34-08b5-4856-9d14-f82f5c03cb50",
        "colab": {
          "base_uri": "https://localhost:8080/"
        }
      },
      "execution_count": 1,
      "outputs": [
        {
          "name": "stdout",
          "output_type": "stream",
          "text": [
            "Give a number: 1\n",
            "Give a number: 2\n",
            "Give a number: 5\n",
            "Give a number: 1\n",
            "Give a number: 0\n"
          ]
        },
        {
          "output_type": "execute_result",
          "data": {
            "text/plain": [
              "[5.0, 2.0, 1.0, 1.0]"
            ]
          },
          "metadata": {},
          "execution_count": 1
        }
      ]
    },
    {
      "cell_type": "code",
      "source": [
        "months = {}\n",
        "\n",
        "names = [\"Jan\", \"Feb\", \"Mar\", \"Apr\", \"May\", \"Jun\", \"Jul\", \"Aug\", \"Sep\", \"Oct\", \"Nov\", \"Dec\"]\n",
        "numbers = [1,2,3,4,5,6,7,8,9,10,11,12]\n",
        "\n",
        "for num in numbers:\n",
        "  months[num] = names [num - 1]\n",
        "months"
      ],
      "metadata": {
        "id": "7KWTzRdX1P3c",
        "outputId": "fd90f9a4-8f1a-442f-fffb-ee220a862f62",
        "colab": {
          "base_uri": "https://localhost:8080/"
        }
      },
      "execution_count": 2,
      "outputs": [
        {
          "output_type": "execute_result",
          "data": {
            "text/plain": [
              "{1: 'Jan',\n",
              " 2: 'Feb',\n",
              " 3: 'Mar',\n",
              " 4: 'Apr',\n",
              " 5: 'May',\n",
              " 6: 'Jun',\n",
              " 7: 'Jul',\n",
              " 8: 'Aug',\n",
              " 9: 'Sep',\n",
              " 10: 'Oct',\n",
              " 11: 'Nov',\n",
              " 12: 'Dec'}"
            ]
          },
          "metadata": {},
          "execution_count": 2
        }
      ]
    },
    {
      "cell_type": "code",
      "source": [
        "counts = {}\n",
        "\n",
        "while len(counts) < 5:\n",
        "  key = input(\"Enter s tring: \")\n",
        "\n",
        "  if key not in counts:\n",
        "    counts[key] = 1\n",
        "  else:\n",
        "    counts[key] += 1\n",
        "\n",
        "counts"
      ],
      "metadata": {
        "id": "i6jKZOvs2C-d",
        "outputId": "016db090-80bf-4a76-8be5-83fe82d89c28",
        "colab": {
          "base_uri": "https://localhost:8080/"
        }
      },
      "execution_count": 6,
      "outputs": [
        {
          "name": "stdout",
          "output_type": "stream",
          "text": [
            "Enter s tring: a\n",
            "Enter s tring: a\n",
            "Enter s tring: a\n",
            "Enter s tring: b\n",
            "Enter s tring: b\n",
            "Enter s tring: b\n",
            "Enter s tring: b\n",
            "Enter s tring: c\n",
            "Enter s tring: e\n",
            "Enter s tring: e\n",
            "Enter s tring: e\n",
            "Enter s tring: \n"
          ]
        },
        {
          "output_type": "execute_result",
          "data": {
            "text/plain": [
              "{'a': 3, 'b': 4, 'c': 1, 'e': 3, '': 1}"
            ]
          },
          "metadata": {},
          "execution_count": 6
        }
      ]
    }
  ]
}