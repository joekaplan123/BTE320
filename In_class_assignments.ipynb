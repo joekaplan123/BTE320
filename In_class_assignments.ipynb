{
  "nbformat": 4,
  "nbformat_minor": 0,
  "metadata": {
    "colab": {
      "provenance": [],
      "authorship_tag": "ABX9TyOEXgBjDoyIQhWPx+hMua/2",
      "include_colab_link": true
    },
    "kernelspec": {
      "name": "python3",
      "display_name": "Python 3"
    },
    "language_info": {
      "name": "python"
    }
  },
  "cells": [
    {
      "cell_type": "markdown",
      "metadata": {
        "id": "view-in-github",
        "colab_type": "text"
      },
      "source": [
        "<a href=\"https://colab.research.google.com/github/joekaplan123/BTE320/blob/main/In_class_assignments.ipynb\" target=\"_parent\"><img src=\"https://colab.research.google.com/assets/colab-badge.svg\" alt=\"Open In Colab\"/></a>"
      ]
    },
    {
      "cell_type": "code",
      "execution_count": null,
      "metadata": {
        "colab": {
          "base_uri": "https://localhost:8080/"
        },
        "id": "4iCbJLWuP827",
        "outputId": "e5a26f17-1947-478b-8480-c3b5b07b4384"
      },
      "outputs": [
        {
          "output_type": "stream",
          "name": "stdout",
          "text": [
            "enter radius: 5\n",
            "enter height: 7\n",
            "area of cylinder: 376.8 sp. ft\n"
          ]
        }
      ],
      "source": [
        "pi = 3.14\n",
        "radius = float(input('enter radius: '))\n",
        "height = float(input('enter height: '))\n",
        "\n",
        "area = (2 * pi * (radius ** 2)) + (2 * pi * radius * height)\n",
        "\n",
        "print(f'area of cylinder: {area} sp. ft')"
      ]
    },
    {
      "cell_type": "code",
      "source": [
        "n1 = float(input('enter number 1:'))\n",
        "n2 = float(input('enter number 2:'))\n",
        "op = input('Enter operator:')\n",
        "\n",
        "if op =='+':\n",
        "  res = n1 + n2\n",
        "elif op == '-':\n",
        "  res = n1 - n2\n",
        "elif op == '*':\n",
        "  res = n1 * n2\n",
        "elif op == '/':\n",
        "  res = n1 / n2\n",
        "elif op == '//':\n",
        "  res = n1 // n2\n",
        "elif op == '**':\n",
        "  res = n1 ** n2\n",
        "elif op == '%':\n",
        "  res = n1 % n2\n",
        "else:\n",
        "    print('Invalid operator')\n",
        "\n",
        "print(f'{n1} {op} {n2} = {res}')"
      ],
      "metadata": {
        "colab": {
          "base_uri": "https://localhost:8080/"
        },
        "id": "D54ub0_lbuhF",
        "outputId": "01c9ae94-2b4e-48ed-c1f8-e6e778cfe139"
      },
      "execution_count": null,
      "outputs": [
        {
          "output_type": "stream",
          "name": "stdout",
          "text": [
            "enter number 1:6\n",
            "enter number 2:8\n",
            "Enter operator://\n",
            "6.0 // 8.0 = 0.0\n"
          ]
        }
      ]
    },
    {
      "cell_type": "code",
      "source": [
        "for numberHours in range(1, 9):\n",
        "  fee = 5 + 2.5 * numberHours\n",
        "  if fee < 10:\n",
        "    fee = 10.0\n",
        "  elif fee > 20:\n",
        "    fee = 20.0\n",
        "  print(numberHours, fee)"
      ],
      "metadata": {
        "colab": {
          "base_uri": "https://localhost:8080/"
        },
        "id": "La1nJM2Y5GiR",
        "outputId": "03d684a0-5480-4d92-c2c0-138f0ca2c469"
      },
      "execution_count": 2,
      "outputs": [
        {
          "output_type": "stream",
          "name": "stdout",
          "text": [
            "1 10.0\n",
            "2 10.0\n",
            "3 12.5\n",
            "4 15.0\n",
            "5 17.5\n",
            "6 20.0\n",
            "7 20.0\n",
            "8 20.0\n"
          ]
        }
      ]
    },
    {
      "cell_type": "code",
      "source": [
        "print('Ad$\\t', 'Profit')\n",
        "for adMoney in range (0, 201, 25):\n",
        "  revenue = (20 + 2 * round(adMoney ** 0.5)) * 10\n",
        "  costs = 200 + adMoney\n",
        "  profit = revenue - costs\n",
        "  print(adMoney, '\\t', profit)"
      ],
      "metadata": {
        "colab": {
          "base_uri": "https://localhost:8080/"
        },
        "id": "hvDHb4Bj5sG7",
        "outputId": "2cef9dac-72e6-47ec-95fa-7a77dc13a7db"
      },
      "execution_count": 3,
      "outputs": [
        {
          "output_type": "stream",
          "name": "stdout",
          "text": [
            "Ad$\t Profit\n",
            "0 \t 0\n",
            "25 \t 75\n",
            "50 \t 90\n",
            "75 \t 105\n",
            "100 \t 100\n",
            "125 \t 95\n",
            "150 \t 90\n",
            "175 \t 85\n",
            "200 \t 80\n"
          ]
        }
      ]
    },
    {
      "cell_type": "code",
      "source": [
        "import random\n",
        "x = \"yes\"\n",
        "while x == \"yes\":\n",
        "  player = input(\"rock, paper, or scissors: \")\n",
        "  while player != \"rock\" and player != \"paper\" and player != \"scissors\":\n",
        "    player = input(\"rock, paper, or scissors: \")\n",
        "  ai = random.choice([\"rock\", \"paper\", \"scissors\"])\n",
        "  print('AI choice: ', ai)\n",
        "  if ((player == \"rock\" and ai == \"scissors\") or (player == \"scissors\" and ai == \"paper\") or (player == \"paper\" and ai == \"rock\")):\n",
        "    print(\"You win!\")\n",
        "  elif ((player == \"rock\" and ai == \"paper\") or (player == \"scissors\" and ai == \"rock\") or (player == \"paper\" and ai == \"scissors\")):\n",
        "    print(\"You lose!\")\n",
        "  else:\n",
        "    print(\"It's a tie!\")\n",
        "  x = input(\"Do you want to play again? (yes/no) \")\n",
        "  while x != \"yes\" and x != \"no\":\n",
        "    x = input(\"Do you want to play again? \")"
      ],
      "metadata": {
        "colab": {
          "base_uri": "https://localhost:8080/"
        },
        "id": "zowHxLIS6grf",
        "outputId": "6c9bb4c7-434f-470c-eea3-b035a2ae0cb3"
      },
      "execution_count": 6,
      "outputs": [
        {
          "name": "stdout",
          "output_type": "stream",
          "text": [
            "rock, paper, or scissors: rock\n",
            "AI choice:  scissors\n",
            "You win!\n",
            "Do you want to play again? (yes/no) yes\n",
            "rock, paper, or scissors: paper\n",
            "AI choice:  paper\n",
            "It's a tie!\n",
            "Do you want to play again? (yes/no) yes\n",
            "rock, paper, or scissors: paper\n",
            "AI choice:  rock\n",
            "You win!\n",
            "Do you want to play again? (yes/no) no\n"
          ]
        }
      ]
    }
  ]
}